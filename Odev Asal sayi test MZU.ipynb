{
 "cells": [
  {
   "cell_type": "code",
   "execution_count": 1,
   "metadata": {},
   "outputs": [
    {
     "name": "stdout",
     "output_type": "stream",
     "text": [
      "12\n",
      "44\n",
      "33\n",
      "22\n",
      "22\n",
      "11\n",
      "22\n",
      "33\n",
      "44\n",
      "0\n",
      "11  :is a prime number\n"
     ]
    }
   ],
   "source": [
    "lst = []\n",
    "\n",
    "for i in range (20):\n",
    "    k = input ()\n",
    "    if k.isdigit() != True:\n",
    "        print ('pls enter only integer')\n",
    "        pass\n",
    "    \n",
    "    elif int(k) == 0:\n",
    "        break\n",
    "\n",
    "    else:\n",
    "        lst.append(k)\n",
    "\n",
    "\n",
    "def asal_test(num):\n",
    "        test_result = 0\n",
    "\n",
    "        if int(num) == 1:\n",
    "            return False\n",
    "\n",
    "        if int(num) > 1:\n",
    "            for s in range(int(num)-2):\n",
    "                if int(num)%(int(s)+2) == 0:\n",
    "                    test_result = test_result + 1\n",
    "                else: \n",
    "                    test_result = test_result + 0\n",
    "        if test_result > 0:\n",
    "            return False\n",
    "        else:\n",
    "            return True\n",
    "        \n",
    "\n",
    "for p in lst:\n",
    "    if asal_test(p) == True:\n",
    "        print (p, \" :is a prime number\")\n",
    "\n",
    "    "
   ]
  },
  {
   "cell_type": "markdown",
   "metadata": {},
   "source": [
    "## "
   ]
  }
 ],
 "metadata": {
  "kernelspec": {
   "display_name": "Python 3",
   "language": "python",
   "name": "python3"
  },
  "language_info": {
   "codemirror_mode": {
    "name": "ipython",
    "version": 3
   },
   "file_extension": ".py",
   "mimetype": "text/x-python",
   "name": "python",
   "nbconvert_exporter": "python",
   "pygments_lexer": "ipython3",
   "version": "3.7.0"
  }
 },
 "nbformat": 4,
 "nbformat_minor": 2
}
